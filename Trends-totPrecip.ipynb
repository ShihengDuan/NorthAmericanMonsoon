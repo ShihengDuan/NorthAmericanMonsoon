{
 "cells": [
  {
   "cell_type": "code",
   "execution_count": 1,
   "id": "6533af15-0b31-489e-80f6-94d8ef65b9a2",
   "metadata": {},
   "outputs": [
    {
     "name": "stderr",
     "output_type": "stream",
     "text": [
      "/global/homes/d/duan0000/.conda/envs/duan/lib/python3.8/site-packages/scipy/__init__.py:146: UserWarning: A NumPy version >=1.16.5 and <1.23.0 is required for this version of SciPy (detected version 1.23.5\n",
      "  warnings.warn(f\"A NumPy version >={np_minversion} and <{np_maxversion}\"\n"
     ]
    }
   ],
   "source": [
    "import pickle\n",
    "import numpy as np\n",
    "import xarray as xa\n",
    "import cartopy\n",
    "from cartopy import crs as ccrs\n",
    "from matplotlib import pyplot as plt\n",
    "from matplotlib import cm, colors\n",
    "from mpl_toolkits.axes_grid1 import make_axes_locatable\n",
    "import matplotlib as mpl\n",
    "import scipy.stats\n",
    "from sklearn.linear_model import LinearRegression\n",
    "from scipy.stats import norm"
   ]
  },
  {
   "cell_type": "code",
   "execution_count": 2,
   "id": "47be826f-5710-459a-a0d3-87b7514c3219",
   "metadata": {},
   "outputs": [],
   "source": [
    "def start_end_time(sub_id):\n",
    "    start = []\n",
    "    end = []\n",
    "    ext_times = ext_days[sub_id]\n",
    "    length = len(ext_times)\n",
    "    i = 0\n",
    "    while i <= length - 1:\n",
    "        j = 1\n",
    "        while (j + i <= length - 1) and ((ext_times[i + j] - ext_times[i + j - 1]) / np.timedelta64(1, \"D\") == 1):\n",
    "            j += 1\n",
    "        start.append(ext_times[i] - np.timedelta64(12, \"h\"))\n",
    "        end.append(ext_times[i + j - 1] + np.timedelta64(12, \"h\"))\n",
    "        i += j\n",
    "    return start, end"
   ]
  },
  {
   "cell_type": "code",
   "execution_count": 3,
   "id": "6f4a4be9-b3f0-49fc-9397-bf60f479618c",
   "metadata": {},
   "outputs": [
    {
     "name": "stdout",
     "output_type": "stream",
     "text": [
      "sub_id:  1\n",
      "39 21.363590636973544\n",
      "sub_id:  2\n",
      "38 7.98353434112839\n",
      "sub_id:  3\n",
      "37 7.6309751208430425\n",
      "sub_id:  4\n",
      "77 6.2968948209451305\n",
      "sub_id:  5\n",
      "118 6.469523059079158\n",
      "sub_id:  6\n",
      "124 10.647874758983226\n",
      "sub_id:  7\n",
      "153 17.252742222601025\n"
     ]
    }
   ],
   "source": [
    "def is_monsoon_precip(month):\n",
    "    return (month <= 9) & (month >= 6)\n",
    "data = xa.open_dataarray('cpc-global/NAM_sub_precip', engine='netcdf4')\n",
    "monsoon_precip = data.sel(time=(is_monsoon_precip(data.time.dt.month)))\n",
    "monsoon_precip = monsoon_precip.sel(time=(monsoon_precip.time.dt.year < 2019))\n",
    "ext_days = {}\n",
    "for sub_id in range(1, 8):\n",
    "    print(\"sub_id: \", sub_id)\n",
    "    precip = monsoon_precip.sel(sub_id=sub_id)\n",
    "    precip_data = precip.data\n",
    "    q1 = np.quantile(precip_data[precip_data > 1], 0.05)\n",
    "    q2 = np.quantile(precip_data[precip_data > 1], 0.95)\n",
    "    ext_time = precip.where(precip > q2, drop=True).time.data\n",
    "    print(len(ext_time), q2)\n",
    "    ext_days[sub_id] = ext_time\n"
   ]
  },
  {
   "cell_type": "markdown",
   "id": "3f03761b-4cff-424c-b9fe-d2e3aab0062b",
   "metadata": {},
   "source": [
    "# Number of Event days\n",
    "* number of epe days, instead of number of epes. (consecutive days are counted multiple times)"
   ]
  },
  {
   "cell_type": "code",
   "execution_count": 4,
   "id": "dd2b9a82-bbef-4224-a747-4f2a9fa644e3",
   "metadata": {},
   "outputs": [],
   "source": [
    "def mk_score(x, n):\n",
    "    s = 0\n",
    "    demo = np.ones(n)\n",
    "    for k in range(n-1):\n",
    "        s = s+np.sum(demo[k+1:n][x[k+1:n] > x[k]])-np.sum(demo[k+1:n][x[k+1:n] < x[k]])\n",
    "    return s\n",
    "\n",
    "def variance_s(x, n):\n",
    "    unique_x = np.unique(x)\n",
    "    g = len(unique_x)\n",
    "    if n==g:\n",
    "        var_s = (n*(n-1)*(2*n+5))/18\n",
    "    else:\n",
    "        tp = np.zeros(unique_x.shape)\n",
    "        demo = np.ones(n)\n",
    "        for i in range(g):\n",
    "            tp[i] = np.sum(demo[x==unique_x[i]])\n",
    "        var_s = (n*(n-1)*(2*n+5) - np.sum(tp*(tp-1)*(2*tp+5)))/18\n",
    "    return var_s\n",
    "\n",
    "def z_score(s, var_s):\n",
    "    if s > 0:\n",
    "        z = (s - 1)/np.sqrt(var_s)\n",
    "    elif s == 0:\n",
    "        z = 0\n",
    "    elif s < 0:\n",
    "        z = (s + 1)/np.sqrt(var_s)\n",
    "    return z\n",
    "\n",
    "def p_value(z, alpha):\n",
    "    # two tail test\n",
    "    p = 2*(1-norm.cdf(abs(z)))  \n",
    "    h = abs(z) > norm.ppf(1-alpha/2)\n",
    "\n",
    "    if (z < 0) and h:\n",
    "        trend = 'decreasing'\n",
    "    elif (z > 0) and h:\n",
    "        trend = 'increasing'\n",
    "    else:\n",
    "        trend = 'no trend'\n",
    "    \n",
    "    return p, h, trend"
   ]
  },
  {
   "cell_type": "code",
   "execution_count": 5,
   "id": "033c7c63-327a-4d82-8af1-3aa4c5c8e6d4",
   "metadata": {},
   "outputs": [],
   "source": [
    "def sens_slope(x):\n",
    "    \"\"\"\n",
    "    This method proposed by Theil (1950) and Sen (1968) to estimate the magnitude of the monotonic trend. Intercept calculated using Conover, W.J. (1980) method.\n",
    "    Input:\n",
    "        x:   a one dimensional vector (list, numpy array or pandas series) data\n",
    "    Output:\n",
    "        slope: Theil-Sen estimator/slope\n",
    "        intercept: intercept of Kendall-Theil Robust Line\n",
    "    Examples\n",
    "    --------\n",
    "      >>> import numpy as np\n",
    "\t  >>> import pymannkendall as mk\n",
    "      >>> x = np.random.rand(120)\n",
    "      >>> slope,intercept = mk.sens_slope(x)\n",
    "    \"\"\"\n",
    "    # res = namedtuple('Sens_Slope_Test', ['slope','intercept'])\n",
    "    \n",
    "#     x, n = __missing_values_analysis(x, method = 'skip')\n",
    "    n = len(x)\n",
    "    slope = np.nanmedian(sens_estimator(x))\n",
    "    intercept = np.nanmedian(x) - np.median(np.arange(n)[~np.isnan(x.flatten())]) * slope  # or median(x) - (n-1)/2 *slope\n",
    "    \n",
    "    return slope, intercept\n",
    "def sens_estimator(x):\n",
    "    idx = 0\n",
    "    n = len(x)\n",
    "    print(n)\n",
    "    d = np.ones(int(n*(n-1)/2))\n",
    "\n",
    "    for i in range(n-1):\n",
    "        j = np.arange(i+1,n) # all the combination of two points selected from original series. \n",
    "        d[idx : idx + len(j)] = (x[j] - x[i]) / (j - i)\n",
    "        idx = idx + len(j)\n",
    "        # print(i, idx)\n",
    "    return d"
   ]
  },
  {
   "cell_type": "markdown",
   "id": "e2778439-7fbd-4c2f-b3a7-49b913f95b0e",
   "metadata": {},
   "source": [
    "# Sub1"
   ]
  },
  {
   "cell_type": "code",
   "execution_count": 6,
   "id": "b2d142c4-823d-4fa0-a7fd-ff910659396c",
   "metadata": {},
   "outputs": [
    {
     "name": "stdout",
     "output_type": "stream",
     "text": [
      "40\n",
      "4593.61250524041\n",
      "40\n",
      "0.5369017953048782 False no trend\n",
      "0.6000506909101648 93.53823762690985\n"
     ]
    },
    {
     "data": {
      "text/plain": [
       "[<matplotlib.lines.Line2D at 0x7f2f4bb665b0>]"
      ]
     },
     "execution_count": 6,
     "metadata": {},
     "output_type": "execute_result"
    },
    {
     "data": {
      "image/png": "[encoded data removed]",
      "text/plain": [
       "<Figure size 432x288 with 1 Axes>"
      ]
     },
     "metadata": {
      "needs_background": "light"
     },
     "output_type": "display_data"
    }
   ],
   "source": [
    "sub_id = 1\n",
    "n_epe = []\n",
    "precip = monsoon_precip.sel(sub_id=sub_id)\n",
    "precip_data = precip.data\n",
    "q1 = np.quantile(precip_data[precip_data > 1], 0.05)\n",
    "q2 = np.quantile(precip_data[precip_data > 1], 0.95)\n",
    "\n",
    "for year in range(1979, 2019):\n",
    "    year_precip = precip.sel(time=precip.time.dt.year==year)\n",
    "    year_precip = year_precip[year_precip>1]\n",
    "    total_precip = year_precip.sum()\n",
    "    # print(len(ext_time), q2)\n",
    "    n_epe.append(total_precip.data)\n",
    "    \n",
    "n = len(n_epe)\n",
    "print(n)\n",
    "print(np.sum(n_epe))\n",
    "n_epe = np.array(n_epe)\n",
    "s = mk_score(n_epe, n)\n",
    "var_s = variance_s(n_epe, n)\n",
    "Tau = s/(.5*n*(n-1))\n",
    "\n",
    "z = z_score(s, var_s)\n",
    "p, h, trend = p_value(z, alpha=0.05)\n",
    "slope, intercept = sens_slope(n_epe)\n",
    "print(p, h, trend)\n",
    "print(slope, intercept)\n",
    "plt.plot(n_epe)"
   ]
  },
  {
   "cell_type": "code",
   "execution_count": 7,
   "id": "0e4ec5d2-9fc1-4f6f-a7bb-838ff2d8278d",
   "metadata": {},
   "outputs": [
    {
     "name": "stdout",
     "output_type": "stream",
     "text": [
      "                            OLS Regression Results                            \n",
      "==============================================================================\n",
      "Dep. Variable:                      y   R-squared:                       0.015\n",
      "Model:                            OLS   Adj. R-squared:                 -0.010\n",
      "Method:                 Least Squares   F-statistic:                    0.5974\n",
      "Date:                Fri, 02 Jun 2023   Prob (F-statistic):              0.444\n",
      "Time:                        15:46:54   Log-Likelihood:                -224.55\n",
      "No. Observations:                  40   AIC:                             453.1\n",
      "Df Residuals:                      38   BIC:                             456.5\n",
      "Df Model:                           1                                         \n",
      "Covariance Type:            nonrobust                                         \n",
      "==============================================================================\n",
      "                 coef    std err          t      P>|t|      [0.025      0.975]\n",
      "------------------------------------------------------------------------------\n",
      "const        100.7867     21.129      4.770      0.000      58.013     143.560\n",
      "x1             0.7207      0.932      0.773      0.444      -1.167       2.608\n",
      "==============================================================================\n",
      "Omnibus:                        6.419   Durbin-Watson:                   1.789\n",
      "Prob(Omnibus):                  0.040   Jarque-Bera (JB):                5.386\n",
      "Skew:                           0.880   Prob(JB):                       0.0677\n",
      "Kurtosis:                       3.371   Cond. No.                         44.5\n",
      "==============================================================================\n",
      "\n",
      "Notes:\n",
      "[1] Standard Errors assume that the covariance matrix of the errors is correctly specified.\n"
     ]
    }
   ],
   "source": [
    "import statsmodels.api as sm\n",
    "from scipy import stats\n",
    "\n",
    "X = np.arange(n).reshape(-1, 1)\n",
    "y = n_epe\n",
    "\n",
    "X2 = sm.add_constant(X)\n",
    "est = sm.OLS(y, X2)\n",
    "est2 = est.fit()\n",
    "print(est2.summary())"
   ]
  },
  {
   "cell_type": "code",
   "execution_count": 8,
   "id": "9bedd9ee-4603-4577-977e-5dc343ef1b24",
   "metadata": {},
   "outputs": [
    {
     "name": "stdout",
     "output_type": "stream",
     "text": [
      "[0.72069731]\n"
     ]
    }
   ],
   "source": [
    "model = LinearRegression().fit(np.arange(n).reshape(-1, 1), n_epe)\n",
    "print(model.coef_)\n"
   ]
  },
  {
   "cell_type": "code",
   "execution_count": null,
   "id": "7a2f9b3b-5ad3-419d-8c8e-d37bb199fcbb",
   "metadata": {},
   "outputs": [],
   "source": []
  },
  {
   "cell_type": "markdown",
   "id": "cecfee69-7ef2-4362-9eae-b5df7761cd24",
   "metadata": {},
   "source": [
    "# Sub2"
   ]
  },
  {
   "cell_type": "code",
   "execution_count": 9,
   "id": "0afb5be9-1aff-4392-8ba1-93ab3e07d4b0",
   "metadata": {},
   "outputs": [
    {
     "name": "stdout",
     "output_type": "stream",
     "text": [
      "2272.0989094232436\n",
      "40\n",
      "0.8248046168337546 False no trend\n",
      "-0.12251368985787539 50.329824135776526\n"
     ]
    }
   ],
   "source": [
    "sub_id = 2\n",
    "n_epe = []\n",
    "precip = monsoon_precip.sel(sub_id=sub_id)\n",
    "precip_data = precip.data\n",
    "q1 = np.quantile(precip_data[precip_data > 1], 0.05)\n",
    "q2 = np.quantile(precip_data[precip_data > 1], 0.95)\n",
    "\n",
    "for year in range(1979, 2019):\n",
    "    year_precip = precip.sel(time=precip.time.dt.year==year)\n",
    "    year_precip = year_precip[year_precip>1]\n",
    "    total_precip = year_precip.sum()\n",
    "    # print(len(ext_time), q2)\n",
    "    n_epe.append(total_precip.data)\n",
    "print(np.sum(n_epe))\n",
    "n = len(n_epe)\n",
    "n_epe = np.array(n_epe)\n",
    "s = mk_score(n_epe, n)\n",
    "var_s = variance_s(n_epe, n)\n",
    "Tau = s/(.5*n*(n-1))\n",
    "\n",
    "z = z_score(s, var_s)\n",
    "p, h, trend = p_value(z, alpha=0.05)\n",
    "slope, intercept = sens_slope(n_epe)\n",
    "print(p, h, trend)\n",
    "print(slope, intercept)"
   ]
  },
  {
   "cell_type": "code",
   "execution_count": 10,
   "id": "174da059-d264-4d88-85f2-ee816b1650f3",
   "metadata": {},
   "outputs": [
    {
     "name": "stdout",
     "output_type": "stream",
     "text": [
      "                            OLS Regression Results                            \n",
      "==============================================================================\n",
      "Dep. Variable:                      y   R-squared:                       0.026\n",
      "Model:                            OLS   Adj. R-squared:                  0.000\n",
      "Method:                 Least Squares   F-statistic:                     1.013\n",
      "Date:                Fri, 02 Jun 2023   Prob (F-statistic):              0.321\n",
      "Time:                        15:46:54   Log-Likelihood:                -194.33\n",
      "No. Observations:                  40   AIC:                             392.7\n",
      "Df Residuals:                      38   BIC:                             396.0\n",
      "Df Model:                           1                                         \n",
      "Covariance Type:            nonrobust                                         \n",
      "==============================================================================\n",
      "                 coef    std err          t      P>|t|      [0.025      0.975]\n",
      "------------------------------------------------------------------------------\n",
      "const         65.3966      9.925      6.589      0.000      45.305      85.488\n",
      "x1            -0.4407      0.438     -1.006      0.321      -1.327       0.446\n",
      "==============================================================================\n",
      "Omnibus:                        9.232   Durbin-Watson:                   1.651\n",
      "Prob(Omnibus):                  0.010   Jarque-Bera (JB):                8.514\n",
      "Skew:                           1.096   Prob(JB):                       0.0142\n",
      "Kurtosis:                       3.551   Cond. No.                         44.5\n",
      "==============================================================================\n",
      "\n",
      "Notes:\n",
      "[1] Standard Errors assume that the covariance matrix of the errors is correctly specified.\n"
     ]
    }
   ],
   "source": [
    "X = np.arange(n).reshape(-1, 1)\n",
    "y = n_epe\n",
    "\n",
    "X2 = sm.add_constant(X)\n",
    "est = sm.OLS(y, X2)\n",
    "est2 = est.fit()\n",
    "print(est2.summary())"
   ]
  },
  {
   "cell_type": "markdown",
   "id": "5de6e9a5-bc8d-4790-a0cd-b9551e6a4d56",
   "metadata": {},
   "source": [
    "# Sub3"
   ]
  },
  {
   "cell_type": "code",
   "execution_count": 11,
   "id": "f397ce69-71d1-4c94-a107-e66329ad7562",
   "metadata": {},
   "outputs": [
    {
     "name": "stdout",
     "output_type": "stream",
     "text": [
      "2131.012547078346   37\n",
      "40\n",
      "0.33352610308834585 False no trend\n",
      "-0.28104336005880537 47.46489045479774\n"
     ]
    }
   ],
   "source": [
    "sub_id = 3\n",
    "n_epe = []\n",
    "precip = monsoon_precip.sel(sub_id=sub_id)\n",
    "precip_data = precip.data\n",
    "q1 = np.quantile(precip_data[precip_data > 1], 0.05)\n",
    "q2 = np.quantile(precip_data[precip_data > 1], 0.95)\n",
    "\n",
    "for year in range(1979, 2019):\n",
    "    year_precip = precip.sel(time=precip.time.dt.year==year)\n",
    "    year_precip = year_precip[year_precip>1]\n",
    "    total_precip = year_precip.sum()\n",
    "    # print(len(ext_time), q2)\n",
    "    n_epe.append(total_precip.data)\n",
    "print(np.sum(n_epe), ' ', len(ext_days[sub_id]))\n",
    "n = len(n_epe)\n",
    "n_epe = np.array(n_epe)\n",
    "s = mk_score(n_epe, n)\n",
    "var_s = variance_s(n_epe, n)\n",
    "Tau = s/(.5*n*(n-1))\n",
    "\n",
    "z = z_score(s, var_s)\n",
    "p, h, trend = p_value(z, alpha=0.05)\n",
    "slope, intercept = sens_slope(n_epe)\n",
    "print(p, h, trend)\n",
    "print(slope, intercept)"
   ]
  },
  {
   "cell_type": "code",
   "execution_count": 12,
   "id": "a8550e5d-3ddf-4867-9379-0bfdd2fc4b84",
   "metadata": {},
   "outputs": [
    {
     "name": "stdout",
     "output_type": "stream",
     "text": [
      "                            OLS Regression Results                            \n",
      "==============================================================================\n",
      "Dep. Variable:                      y   R-squared:                       0.023\n",
      "Model:                            OLS   Adj. R-squared:                 -0.003\n",
      "Method:                 Least Squares   F-statistic:                    0.8785\n",
      "Date:                Fri, 02 Jun 2023   Prob (F-statistic):              0.355\n",
      "Time:                        15:46:55   Log-Likelihood:                -191.19\n",
      "No. Observations:                  40   AIC:                             386.4\n",
      "Df Residuals:                      38   BIC:                             389.8\n",
      "Df Model:                           1                                         \n",
      "Covariance Type:            nonrobust                                         \n",
      "==============================================================================\n",
      "                 coef    std err          t      P>|t|      [0.025      0.975]\n",
      "------------------------------------------------------------------------------\n",
      "const         60.6755      9.175      6.613      0.000      42.102      79.249\n",
      "x1            -0.3795      0.405     -0.937      0.355      -1.199       0.440\n",
      "==============================================================================\n",
      "Omnibus:                        9.743   Durbin-Watson:                   1.152\n",
      "Prob(Omnibus):                  0.008   Jarque-Bera (JB):                9.313\n",
      "Skew:                           1.158   Prob(JB):                      0.00950\n",
      "Kurtosis:                       3.469   Cond. No.                         44.5\n",
      "==============================================================================\n",
      "\n",
      "Notes:\n",
      "[1] Standard Errors assume that the covariance matrix of the errors is correctly specified.\n"
     ]
    }
   ],
   "source": [
    "X = np.arange(n).reshape(-1, 1)\n",
    "y = n_epe\n",
    "\n",
    "X2 = sm.add_constant(X)\n",
    "est = sm.OLS(y, X2)\n",
    "est2 = est.fit()\n",
    "print(est2.summary())"
   ]
  },
  {
   "cell_type": "markdown",
   "id": "edbef3a9-1cd4-486a-b7f4-db16c7dc1938",
   "metadata": {},
   "source": [
    "# Sub4"
   ]
  },
  {
   "cell_type": "code",
   "execution_count": 13,
   "id": "1743472c-6b6f-4aca-9307-8efc07c8cdb8",
   "metadata": {},
   "outputs": [
    {
     "name": "stdout",
     "output_type": "stream",
     "text": [
      "4129.093102444584   77\n",
      "40\n",
      "0.8067106222830902 False no trend\n",
      "-0.09392418216157161 102.45366076193893\n"
     ]
    }
   ],
   "source": [
    "sub_id = 4\n",
    "n_epe = []\n",
    "precip = monsoon_precip.sel(sub_id=sub_id)\n",
    "precip_data = precip.data\n",
    "q1 = np.quantile(precip_data[precip_data > 1], 0.05)\n",
    "q2 = np.quantile(precip_data[precip_data > 1], 0.95)\n",
    "\n",
    "for year in range(1979, 2019):\n",
    "    year_precip = precip.sel(time=precip.time.dt.year==year)\n",
    "    year_precip = year_precip[year_precip>1]\n",
    "    total_precip = year_precip.sum()\n",
    "    # print(len(ext_time), q2)\n",
    "    n_epe.append(total_precip.data)\n",
    "print(np.sum(n_epe), ' ', len(ext_days[sub_id]))\n",
    "n = len(n_epe)\n",
    "n_epe = np.array(n_epe)\n",
    "s = mk_score(n_epe, n)\n",
    "var_s = variance_s(n_epe, n)\n",
    "Tau = s/(.5*n*(n-1))\n",
    "\n",
    "z = z_score(s, var_s)\n",
    "p, h, trend = p_value(z, alpha=0.05)\n",
    "slope, intercept = sens_slope(n_epe)\n",
    "print(p, h, trend)\n",
    "print(slope, intercept)"
   ]
  },
  {
   "cell_type": "code",
   "execution_count": 14,
   "id": "445acfeb-c9c5-4033-859e-526a6fedae3e",
   "metadata": {},
   "outputs": [
    {
     "name": "stdout",
     "output_type": "stream",
     "text": [
      "                            OLS Regression Results                            \n",
      "==============================================================================\n",
      "Dep. Variable:                      y   R-squared:                       0.001\n",
      "Model:                            OLS   Adj. R-squared:                 -0.026\n",
      "Method:                 Least Squares   F-statistic:                   0.02606\n",
      "Date:                Fri, 02 Jun 2023   Prob (F-statistic):              0.873\n",
      "Time:                        15:46:55   Log-Likelihood:                -194.15\n",
      "No. Observations:                  40   AIC:                             392.3\n",
      "Df Residuals:                      38   BIC:                             395.7\n",
      "Df Model:                           1                                         \n",
      "Covariance Type:            nonrobust                                         \n",
      "==============================================================================\n",
      "                 coef    std err          t      P>|t|      [0.025      0.975]\n",
      "------------------------------------------------------------------------------\n",
      "const        101.8548      9.881     10.308      0.000      81.852     121.858\n",
      "x1             0.0704      0.436      0.161      0.873      -0.812       0.953\n",
      "==============================================================================\n",
      "Omnibus:                        0.597   Durbin-Watson:                   1.508\n",
      "Prob(Omnibus):                  0.742   Jarque-Bera (JB):                0.700\n",
      "Skew:                           0.246   Prob(JB):                        0.705\n",
      "Kurtosis:                       2.578   Cond. No.                         44.5\n",
      "==============================================================================\n",
      "\n",
      "Notes:\n",
      "[1] Standard Errors assume that the covariance matrix of the errors is correctly specified.\n"
     ]
    }
   ],
   "source": [
    "X = np.arange(n).reshape(-1, 1)\n",
    "y = n_epe\n",
    "\n",
    "X2 = sm.add_constant(X)\n",
    "est = sm.OLS(y, X2)\n",
    "est2 = est.fit()\n",
    "print(est2.summary())"
   ]
  },
  {
   "cell_type": "markdown",
   "id": "21af63bb-acba-4117-986d-523519379f61",
   "metadata": {},
   "source": [
    "# Sub5"
   ]
  },
  {
   "cell_type": "code",
   "execution_count": 15,
   "id": "17316867-edba-41f4-8d1d-5c94af401a42",
   "metadata": {},
   "outputs": [
    {
     "name": "stdout",
     "output_type": "stream",
     "text": [
      "6747.659112155144   118\n",
      "40\n",
      "0.7887194899032053 False no trend\n",
      "0.15573527436594942 157.04395857235403\n"
     ]
    }
   ],
   "source": [
    "sub_id = 5\n",
    "n_epe = []\n",
    "precip = monsoon_precip.sel(sub_id=sub_id)\n",
    "precip_data = precip.data\n",
    "q1 = np.quantile(precip_data[precip_data > 1], 0.05)\n",
    "q2 = np.quantile(precip_data[precip_data > 1], 0.95)\n",
    "\n",
    "for year in range(1979, 2019):\n",
    "    year_precip = precip.sel(time=precip.time.dt.year==year)\n",
    "    year_precip = year_precip[year_precip>1]\n",
    "    total_precip = year_precip.sum()\n",
    "    # print(len(ext_time), q2)\n",
    "    n_epe.append(total_precip.data)\n",
    "print(np.sum(n_epe), ' ', len(ext_days[sub_id]))\n",
    "n = len(n_epe)\n",
    "n_epe = np.array(n_epe)\n",
    "s = mk_score(n_epe, n)\n",
    "var_s = variance_s(n_epe, n)\n",
    "Tau = s/(.5*n*(n-1))\n",
    "\n",
    "z = z_score(s, var_s)\n",
    "p, h, trend = p_value(z, alpha=0.05)\n",
    "slope, intercept = sens_slope(n_epe)\n",
    "print(p, h, trend)\n",
    "print(slope, intercept)"
   ]
  },
  {
   "cell_type": "code",
   "execution_count": 16,
   "id": "0826d740-cb00-48bb-8cd1-cfe97e0f321c",
   "metadata": {},
   "outputs": [
    {
     "name": "stdout",
     "output_type": "stream",
     "text": [
      "                            OLS Regression Results                            \n",
      "==============================================================================\n",
      "Dep. Variable:                      y   R-squared:                       0.003\n",
      "Model:                            OLS   Adj. R-squared:                 -0.024\n",
      "Method:                 Least Squares   F-statistic:                    0.1029\n",
      "Date:                Fri, 02 Jun 2023   Prob (F-statistic):              0.750\n",
      "Time:                        15:46:55   Log-Likelihood:                -204.72\n",
      "No. Observations:                  40   AIC:                             413.4\n",
      "Df Residuals:                      38   BIC:                             416.8\n",
      "Df Model:                           1                                         \n",
      "Covariance Type:            nonrobust                                         \n",
      "==============================================================================\n",
      "                 coef    std err          t      P>|t|      [0.025      0.975]\n",
      "------------------------------------------------------------------------------\n",
      "const        165.1388     12.867     12.834      0.000     139.090     191.187\n",
      "x1             0.1822      0.568      0.321      0.750      -0.967       1.332\n",
      "==============================================================================\n",
      "Omnibus:                        3.645   Durbin-Watson:                   1.839\n",
      "Prob(Omnibus):                  0.162   Jarque-Bera (JB):                2.145\n",
      "Skew:                           0.332   Prob(JB):                        0.342\n",
      "Kurtosis:                       2.080   Cond. No.                         44.5\n",
      "==============================================================================\n",
      "\n",
      "Notes:\n",
      "[1] Standard Errors assume that the covariance matrix of the errors is correctly specified.\n"
     ]
    }
   ],
   "source": [
    "X = np.arange(n).reshape(-1, 1)\n",
    "y = n_epe\n",
    "\n",
    "X2 = sm.add_constant(X)\n",
    "est = sm.OLS(y, X2)\n",
    "est2 = est.fit()\n",
    "print(est2.summary())"
   ]
  },
  {
   "cell_type": "markdown",
   "id": "a81ed5fa-dbee-4691-b391-2e6961d423a7",
   "metadata": {},
   "source": [
    "# Sub6"
   ]
  },
  {
   "cell_type": "code",
   "execution_count": 17,
   "id": "d6a7444b-a4a7-4ce3-9deb-cdecad390d57",
   "metadata": {},
   "outputs": [
    {
     "name": "stdout",
     "output_type": "stream",
     "text": [
      "10107.429640396474   124\n",
      "40\n",
      "0.06395197805243646 False no trend\n",
      "1.7033664485416855 215.42671109966136\n"
     ]
    }
   ],
   "source": [
    "sub_id = 6\n",
    "n_epe = []\n",
    "precip = monsoon_precip.sel(sub_id=sub_id)\n",
    "precip_data = precip.data\n",
    "q1 = np.quantile(precip_data[precip_data > 1], 0.05)\n",
    "q2 = np.quantile(precip_data[precip_data > 1], 0.95)\n",
    "\n",
    "for year in range(1979, 2019):\n",
    "    year_precip = precip.sel(time=precip.time.dt.year==year)\n",
    "    year_precip = year_precip[year_precip>1]\n",
    "    total_precip = year_precip.sum()\n",
    "    # print(len(ext_time), q2)\n",
    "    n_epe.append(total_precip.data)\n",
    "print(np.sum(n_epe), ' ', len(ext_days[sub_id]))\n",
    "n = len(n_epe)\n",
    "n_epe = np.array(n_epe)\n",
    "s = mk_score(n_epe, n)\n",
    "var_s = variance_s(n_epe, n)\n",
    "Tau = s/(.5*n*(n-1))\n",
    "\n",
    "z = z_score(s, var_s)\n",
    "p, h, trend = p_value(z, alpha=0.05)\n",
    "slope, intercept = sens_slope(n_epe)\n",
    "print(p, h, trend)\n",
    "print(slope, intercept)"
   ]
  },
  {
   "cell_type": "code",
   "execution_count": 18,
   "id": "7f6e7289-abe5-4efc-a6a2-6943c50fd404",
   "metadata": {},
   "outputs": [
    {
     "name": "stdout",
     "output_type": "stream",
     "text": [
      "                            OLS Regression Results                            \n",
      "==============================================================================\n",
      "Dep. Variable:                      y   R-squared:                       0.026\n",
      "Model:                            OLS   Adj. R-squared:                  0.000\n",
      "Method:                 Least Squares   F-statistic:                     1.019\n",
      "Date:                Fri, 02 Jun 2023   Prob (F-statistic):              0.319\n",
      "Time:                        15:46:55   Log-Likelihood:                -226.17\n",
      "No. Observations:                  40   AIC:                             456.3\n",
      "Df Residuals:                      38   BIC:                             459.7\n",
      "Df Model:                           1                                         \n",
      "Covariance Type:            nonrobust                                         \n",
      "==============================================================================\n",
      "                 coef    std err          t      P>|t|      [0.025      0.975]\n",
      "------------------------------------------------------------------------------\n",
      "const        233.5764     21.998     10.618      0.000     189.044     278.108\n",
      "x1             0.9800      0.971      1.009      0.319      -0.985       2.945\n",
      "==============================================================================\n",
      "Omnibus:                        8.173   Durbin-Watson:                   1.893\n",
      "Prob(Omnibus):                  0.017   Jarque-Bera (JB):                7.001\n",
      "Skew:                           0.862   Prob(JB):                       0.0302\n",
      "Kurtosis:                       4.107   Cond. No.                         44.5\n",
      "==============================================================================\n",
      "\n",
      "Notes:\n",
      "[1] Standard Errors assume that the covariance matrix of the errors is correctly specified.\n"
     ]
    }
   ],
   "source": [
    "X = np.arange(n).reshape(-1, 1)\n",
    "y = n_epe\n",
    "\n",
    "X2 = sm.add_constant(X)\n",
    "est = sm.OLS(y, X2)\n",
    "est2 = est.fit()\n",
    "print(est2.summary())"
   ]
  },
  {
   "cell_type": "code",
   "execution_count": null,
   "id": "a78947ff-cd92-4b55-8392-0d397089fcc2",
   "metadata": {},
   "outputs": [],
   "source": []
  },
  {
   "cell_type": "code",
   "execution_count": 19,
   "id": "8b08e6ce-83ab-4bd7-8008-d5a3e64d360b",
   "metadata": {},
   "outputs": [
    {
     "name": "stdout",
     "output_type": "stream",
     "text": [
      "[0.97996876]\n"
     ]
    }
   ],
   "source": [
    "model = LinearRegression().fit(np.arange(n).reshape(-1, 1), n_epe)\n",
    "print(model.coef_)"
   ]
  },
  {
   "cell_type": "markdown",
   "id": "1491c720-7062-406f-9cc8-4bebfa4a027c",
   "metadata": {},
   "source": [
    "## category"
   ]
  },
  {
   "cell_type": "code",
   "execution_count": 20,
   "id": "e3bcbdd1-8192-42c0-92d7-05527fc8d00b",
   "metadata": {},
   "outputs": [],
   "source": [
    "sub_id = 6\n",
    "surge_induced_flag = np.load(\"ERA5/PAU/\" + str(sub_id) + \"_surgeWINDOW_induced_flag.npy\")\n",
    "# tutt_induced_flag = np.load(\"ERA5/PAU/\" + str(sub_id) + \"_TUTT_induced_flag.npy\")\n",
    "tutt_induced_flag = np.load(\"ERA5/PAU/\" + str(sub_id) + \"_TUTT_induced-10degree.npy\")\n",
    "# tc_induced_flag = np.load(\"ERA5/PAU/\" + str(sub_id) + \"_tc_induced_flag.npy\")\n",
    "tc_induced_flag = np.load(\"ERA5/PAU/\" + str(sub_id) + \"_tc_corrected_flag.npy\")\n",
    "MCS_induced_flag = np.load(\"ERA5/PAU/MCS_\" + str(sub_id) + \".npy\")\n",
    "MCS_induced_flag[MCS_induced_flag < 0] = 0\n",
    "midtro_flag = np.load(\"ERA5/PAU/\" + str(sub_id) + \"_midTropo.npy\")\n",
    "front_flag = np.load(\"ERA5/PAU/\" + str(sub_id) + \"_front.npy\")\n",
    "start, end = start_end_time(sub_id)\n",
    "all_time = ext_days[sub_id]"
   ]
  },
  {
   "cell_type": "code",
   "execution_count": 21,
   "id": "085dda5b-06e1-4f6d-bb1b-1a103f737a2c",
   "metadata": {},
   "outputs": [
    {
     "ename": "NameError",
     "evalue": "name 'find_categories_events' is not defined",
     "output_type": "error",
     "traceback": [
      "\u001b[0;31m---------------------------------------------------------------------------\u001b[0m",
      "\u001b[0;31mNameError\u001b[0m                                 Traceback (most recent call last)",
      "\u001b[0;32m/tmp/ipykernel_100533/901669615.py\u001b[0m in \u001b[0;36m<module>\u001b[0;34m\u001b[0m\n\u001b[1;32m      1\u001b[0m \u001b[0;31m# TC\u001b[0m\u001b[0;34m\u001b[0m\u001b[0;34m\u001b[0m\u001b[0;34m\u001b[0m\u001b[0m\n\u001b[0;32m----> 2\u001b[0;31m \u001b[0mn_epe\u001b[0m \u001b[0;34m=\u001b[0m \u001b[0mfind_categories_events\u001b[0m\u001b[0;34m(\u001b[0m\u001b[0mtc_induced_flag\u001b[0m\u001b[0;34m,\u001b[0m \u001b[0mend\u001b[0m\u001b[0;34m,\u001b[0m \u001b[0mstart\u001b[0m\u001b[0;34m)\u001b[0m\u001b[0;34m\u001b[0m\u001b[0;34m\u001b[0m\u001b[0m\n\u001b[0m\u001b[1;32m      3\u001b[0m \u001b[0mplt\u001b[0m\u001b[0;34m.\u001b[0m\u001b[0mplot\u001b[0m\u001b[0;34m(\u001b[0m\u001b[0mn_epe\u001b[0m\u001b[0;34m)\u001b[0m\u001b[0;34m\u001b[0m\u001b[0;34m\u001b[0m\u001b[0m\n\u001b[1;32m      4\u001b[0m \u001b[0mplt\u001b[0m\u001b[0;34m.\u001b[0m\u001b[0mshow\u001b[0m\u001b[0;34m(\u001b[0m\u001b[0;34m)\u001b[0m\u001b[0;34m\u001b[0m\u001b[0;34m\u001b[0m\u001b[0m\n\u001b[1;32m      5\u001b[0m \u001b[0mn\u001b[0m \u001b[0;34m=\u001b[0m \u001b[0mlen\u001b[0m\u001b[0;34m(\u001b[0m\u001b[0mn_epe\u001b[0m\u001b[0;34m)\u001b[0m\u001b[0;34m\u001b[0m\u001b[0;34m\u001b[0m\u001b[0m\n",
      "\u001b[0;31mNameError\u001b[0m: name 'find_categories_events' is not defined"
     ]
    }
   ],
   "source": [
    "# TC\n",
    "n_epe = find_categories_events(tc_induced_flag, end, start)\n",
    "plt.plot(n_epe)\n",
    "plt.show()\n",
    "n = len(n_epe)\n",
    "print(n)\n",
    "print(np.sum(n_epe), ' Sum n_epe')\n",
    "print(np.sum(tc_induced_flag), ' Sum Category')\n",
    "n_epe = np.array(n_epe)\n",
    "s = mk_score(n_epe, n)\n",
    "var_s = variance_s(n_epe, n)\n",
    "Tau = s/(.5*n*(n-1))\n",
    "\n",
    "z = z_score(s, var_s)\n",
    "p, h, trend = p_value(z, alpha=0.05/6)\n",
    "slope, intercept = sens_slope(n_epe)\n",
    "print(p, h, trend)\n",
    "print(slope, intercept)"
   ]
  },
  {
   "cell_type": "code",
   "execution_count": null,
   "id": "0904828d-8c4f-45a4-aa0b-0a02dbdf6281",
   "metadata": {},
   "outputs": [],
   "source": []
  },
  {
   "cell_type": "code",
   "execution_count": null,
   "id": "37fb69ea-f361-43c3-b249-aa5ce3a6cbfa",
   "metadata": {},
   "outputs": [],
   "source": []
  },
  {
   "cell_type": "code",
   "execution_count": null,
   "id": "4243563b-8c0a-4898-af64-4285720c3e84",
   "metadata": {},
   "outputs": [],
   "source": []
  },
  {
   "cell_type": "code",
   "execution_count": null,
   "id": "f6f425c1-51c7-4c13-a1af-8026361a0e9e",
   "metadata": {},
   "outputs": [],
   "source": []
  },
  {
   "cell_type": "markdown",
   "id": "afddbc7f-f23e-4ad4-bded-1e795061c50d",
   "metadata": {},
   "source": [
    "# Sub7"
   ]
  },
  {
   "cell_type": "code",
   "execution_count": 22,
   "id": "fab56b05-d4c6-41af-a2d7-9c597314ae89",
   "metadata": {},
   "outputs": [
    {
     "name": "stdout",
     "output_type": "stream",
     "text": [
      "20041.438409143604   153\n",
      "40\n",
      "0.5680669608513922 False no trend\n",
      "-1.0839621797581709 525.462273121139\n"
     ]
    }
   ],
   "source": [
    "sub_id = 7\n",
    "n_epe = []\n",
    "precip = monsoon_precip.sel(sub_id=sub_id)\n",
    "precip_data = precip.data\n",
    "q1 = np.quantile(precip_data[precip_data > 1], 0.05)\n",
    "q2 = np.quantile(precip_data[precip_data > 1], 0.95)\n",
    "\n",
    "for year in range(1979, 2019):\n",
    "    year_precip = precip.sel(time=precip.time.dt.year==year)\n",
    "    total_precip = year_precip.sum()\n",
    "    # print(len(ext_time), q2)\n",
    "    n_epe.append(total_precip.data)\n",
    "print(np.sum(n_epe), ' ', len(ext_days[sub_id]))\n",
    "n = len(n_epe)\n",
    "n_epe = np.array(n_epe)\n",
    "s = mk_score(n_epe, n)\n",
    "var_s = variance_s(n_epe, n)\n",
    "Tau = s/(.5*n*(n-1))\n",
    "\n",
    "z = z_score(s, var_s)\n",
    "p, h, trend = p_value(z, alpha=0.05)\n",
    "slope, intercept = sens_slope(n_epe)\n",
    "print(p, h, trend)\n",
    "print(slope, intercept)"
   ]
  },
  {
   "cell_type": "code",
   "execution_count": 23,
   "id": "29edee06-0ecc-4ceb-bb8d-0f78f33f24b5",
   "metadata": {},
   "outputs": [
    {
     "name": "stdout",
     "output_type": "stream",
     "text": [
      "                            OLS Regression Results                            \n",
      "==============================================================================\n",
      "Dep. Variable:                      y   R-squared:                       0.019\n",
      "Model:                            OLS   Adj. R-squared:                 -0.007\n",
      "Method:                 Least Squares   F-statistic:                    0.7336\n",
      "Date:                Fri, 02 Jun 2023   Prob (F-statistic):              0.397\n",
      "Time:                        15:47:26   Log-Likelihood:                -242.85\n",
      "No. Observations:                  40   AIC:                             489.7\n",
      "Df Residuals:                      38   BIC:                             493.1\n",
      "Df Model:                           1                                         \n",
      "Covariance Type:            nonrobust                                         \n",
      "==============================================================================\n",
      "                 coef    std err          t      P>|t|      [0.025      0.975]\n",
      "------------------------------------------------------------------------------\n",
      "const        525.6423     33.386     15.745      0.000     458.057     593.228\n",
      "x1            -1.2619      1.473     -0.856      0.397      -4.244       1.721\n",
      "==============================================================================\n",
      "Omnibus:                        3.944   Durbin-Watson:                   1.430\n",
      "Prob(Omnibus):                  0.139   Jarque-Bera (JB):                2.677\n",
      "Skew:                           0.486   Prob(JB):                        0.262\n",
      "Kurtosis:                       3.813   Cond. No.                         44.5\n",
      "==============================================================================\n",
      "\n",
      "Notes:\n",
      "[1] Standard Errors assume that the covariance matrix of the errors is correctly specified.\n"
     ]
    }
   ],
   "source": [
    "X = np.arange(n).reshape(-1, 1)\n",
    "y = n_epe\n",
    "\n",
    "X2 = sm.add_constant(X)\n",
    "est = sm.OLS(y, X2)\n",
    "est2 = est.fit()\n",
    "print(est2.summary())"
   ]
  },
  {
   "cell_type": "code",
   "execution_count": null,
   "id": "debec065-af57-4583-9234-ff7c53c0696d",
   "metadata": {},
   "outputs": [],
   "source": []
  }
 ],
 "metadata": {
  "kernelspec": {
   "display_name": "duan",
   "language": "python",
   "name": "duan"
  },
  "language_info": {
   "codemirror_mode": {
    "name": "ipython",
    "version": 3
   },
   "file_extension": ".py",
   "mimetype": "text/x-python",
   "name": "python",
   "nbconvert_exporter": "python",
   "pygments_lexer": "ipython3",
   "version": "3.8.11"
  }
 },
 "nbformat": 4,
 "nbformat_minor": 5
}
